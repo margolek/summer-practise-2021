{
 "cells": [
  {
   "cell_type": "markdown",
   "metadata": {
    "colab_type": "text",
    "id": "view-in-github"
   },
   "source": [
    "<a href=\"https://colab.research.google.com/github/margolek/TensorFlow-Object-Detection/blob/master/TFODCourse-main/1.%20Image%20Collection.ipynb\" target=\"_parent\"><img src=\"https://colab.research.google.com/assets/colab-badge.svg\" alt=\"Open In Colab\"/></a>"
   ]
  },
  {
   "cell_type": "markdown",
   "metadata": {
    "id": "uWISEVMbO7zR"
   },
   "source": [
    "# 1. Import Dependencies and setup basic preferences"
   ]
  },
  {
   "cell_type": "code",
   "execution_count": 126,
   "metadata": {
    "id": "_FiuqXfMO7zX"
   },
   "outputs": [],
   "source": [
    "'''\n",
    "Use unique identificators to collect name photos in unique way\n",
    "We need opencv in order to connect camera via RTSP protocole\n",
    "Time module allow us set time delay between photo capturing\n",
    "We need opencv in order to connect camera via RTSP protocole\n",
    "Matplotlib - most popular Python package to create matlab-like figures\n",
    "The OS module in Python provides functions for interacting with the operating system\n",
    "We will use regular expression to change filename in XML file\n",
    "The shutil module offers a number of high-level operations on files and collections of files\n",
    "'''\n",
    "import uuid\n",
    "import cv2\n",
    "import re\n",
    "import shutil\n",
    "import time\n",
    "import os\n",
    "import matplotlib.pyplot as plt\n",
    "%matplotlib inline\n",
    "\n",
    "\n",
    "'''\n",
    "We only need to define one detect value because hole is one thing that we need to detect\n",
    "We also define images batch size\n",
    "\n",
    "'''\n",
    "detect = 'hole'\n",
    "image_batch_size = 10"
   ]
  },
  {
   "cell_type": "markdown",
   "metadata": {
    "id": "PUqEVd57O7zb"
   },
   "source": [
    "# 2. Create folders and collect  images"
   ]
  },
  {
   "cell_type": "code",
   "execution_count": 127,
   "metadata": {},
   "outputs": [],
   "source": [
    "PROJECT_DESTINATION = os.path.join('TensorflowObjectDetectionAPI','mydataset')\n",
    "XML_SAMPLE_PATH = os.path.join('TensorflowObjectDetectionAPI','sample.xml')"
   ]
  },
  {
   "cell_type": "code",
   "execution_count": 128,
   "metadata": {},
   "outputs": [],
   "source": [
    "# Generate UUID list\n",
    "generate_uuid_list = [str(uuid.uuid4().int) for i in range(image_batch_size)]"
   ]
  },
  {
   "cell_type": "code",
   "execution_count": 129,
   "metadata": {},
   "outputs": [],
   "source": [
    "# CreateXML file\n",
    "for n in range(image_batch_size):\n",
    "    destination = os.path.join(PROJECT_DESTINATION,detect+'.'+'{}.xml'.format(generate_uuid_list[n]))\n",
    "    shutil.copy(XML_SAMPLE_PATH,destination)\n",
    "\n",
    "        "
   ]
  },
  {
   "cell_type": "code",
   "execution_count": 130,
   "metadata": {
    "id": "yj34k950O7zb",
    "outputId": "26e6a149-b365-4de9-edcd-932d15273233"
   },
   "outputs": [
    {
     "name": "stdout",
     "output_type": "stream",
     "text": [
      "Nr. 0\n",
      "Nr. 1\n",
      "Nr. 2\n",
      "Nr. 3\n",
      "Nr. 4\n",
      "Nr. 5\n",
      "Nr. 6\n",
      "Nr. 7\n",
      "Nr. 8\n",
      "Nr. 9\n"
     ]
    }
   ],
   "source": [
    "# Check if defined model name exist (Useful when we collect extra data after first collecting)\n",
    "if not os.path.exists(PROJECT_DESTINATION):\n",
    "  !mkdir {PROJECT_DESTINATION}\n",
    "\n",
    "RTSP = os.environ.get('RTSP_ADDRESS')\n",
    "cap = cv2.VideoCapture(0)\n",
    "\n",
    "for n in range(image_batch_size):\n",
    "    print(f'Nr. {n}')\n",
    "    ret, frame = cap.read()\n",
    "    imgname = os.path.join(PROJECT_DESTINATION,detect+'.'+'{}.jpg'.format(generate_uuid_list[n]))\n",
    "\n",
    "#         cv2.imwrite(imgname, frame[220:270,180:470])\n",
    "#         cv2.imshow('frame', frame[220:270,180:470])\n",
    "    cv2.imwrite(imgname, frame[320:370,310:600])\n",
    "    cv2.imshow('frame', frame[320:370,310:600])\n",
    "    time.sleep(1)\n",
    "\n",
    "    if cv2.waitKey(1) & 0xFF == ord('q'):\n",
    "        break\n",
    "cap.release()\n",
    "cv2.destroyAllWindows()"
   ]
  }
 ],
 "metadata": {
  "colab": {
   "include_colab_link": true,
   "name": "1. Image Collection.ipynb",
   "provenance": []
  },
  "kernelspec": {
   "display_name": "tensorflow-api",
   "language": "python",
   "name": "tensorflow-api"
  },
  "language_info": {
   "codemirror_mode": {
    "name": "ipython",
    "version": 3
   },
   "file_extension": ".py",
   "mimetype": "text/x-python",
   "name": "python",
   "nbconvert_exporter": "python",
   "pygments_lexer": "ipython3",
   "version": "3.6.6"
  }
 },
 "nbformat": 4,
 "nbformat_minor": 1
}
