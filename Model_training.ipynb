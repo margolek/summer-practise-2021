{
 "cells": [
  {
   "cell_type": "markdown",
   "metadata": {
    "colab_type": "text",
    "id": "view-in-github"
   },
   "source": [
    "<a href=\"https://colab.research.google.com/github/margolek/summer-practise-2021/blob/master/ROBOFLOW_tensorflow_object_detection_faster_rcnn.ipynb\" target=\"_parent\"><img src=\"https://colab.research.google.com/assets/colab-badge.svg\" alt=\"Open In Colab\"/></a>"
   ]
  },
  {
   "cell_type": "code",
   "execution_count": null,
   "metadata": {
    "colab": {
     "base_uri": "https://localhost:8080/"
    },
    "id": "oU0NlA55ribD",
    "outputId": "e5d2513a-f3d8-4747-8ce5-3fa2e2cf62c1"
   },
   "outputs": [
    {
     "name": "stdout",
     "output_type": "stream",
     "text": [
      "Mounted at /content/gdrive\n"
     ]
    }
   ],
   "source": [
    "from google.colab import drive\n",
    "drive.mount('/content/gdrive')"
   ]
  },
  {
   "cell_type": "code",
   "execution_count": null,
   "metadata": {
    "colab": {
     "base_uri": "https://localhost:8080/"
    },
    "id": "dyqkWF3ursqA",
    "outputId": "534d0e7b-b7f4-4a80-d3d3-bddbd72b616d"
   },
   "outputs": [
    {
     "name": "stdout",
     "output_type": "stream",
     "text": [
      "\u001b[0m\u001b[01;34mgdrive\u001b[0m/  \u001b[01;34msample_data\u001b[0m/\n"
     ]
    }
   ],
   "source": [
    "%ls "
   ]
  },
  {
   "cell_type": "code",
   "execution_count": null,
   "metadata": {
    "colab": {
     "base_uri": "https://localhost:8080/"
    },
    "id": "PalosE5qr2Hl",
    "outputId": "3ee23dc9-f13e-4985-9be6-a99c79df838e"
   },
   "outputs": [
    {
     "name": "stdout",
     "output_type": "stream",
     "text": [
      "/content/gdrive/MyDrive/Programming/summer-practise-2021\n"
     ]
    }
   ],
   "source": [
    "%cd gdrive/MyDrive/Programming/summer-practise-2021"
   ]
  },
  {
   "cell_type": "code",
   "execution_count": null,
   "metadata": {
    "colab": {
     "base_uri": "https://localhost:8080/"
    },
    "id": "M0oQXr_sryAI",
    "outputId": "7c235e41-a574-4b4d-fa1d-ccf49aa1c39e"
   },
   "outputs": [
    {
     "name": "stdout",
     "output_type": "stream",
     "text": [
      "/content/gdrive/MyDrive/Programming/summer-practise-2021/Tensorflow_v1_color_aug_middle\n"
     ]
    }
   ],
   "source": [
    "%cd Tensorflow_v1_color_aug_middle/"
   ]
  },
  {
   "cell_type": "code",
   "execution_count": null,
   "metadata": {
    "id": "dW2W17o-p7SX"
   },
   "outputs": [],
   "source": [
    "!pip install tensorflow_gpu==1.15"
   ]
  },
  {
   "cell_type": "code",
   "execution_count": null,
   "metadata": {
    "id": "gnNXNQCjdniL"
   },
   "outputs": [],
   "source": [
    "repo_url = 'https://github.com/roboflow-ai/tensorflow-object-detection-faster-rcnn'\n",
    "num_steps = 100000 \n",
    "num_eval_steps = 500\n",
    "\n",
    "MODEL = 'faster_rcnn_inception_v2_coco_2018_01_28'\n",
    "pipeline_file = 'faster_rcnn_inception_v2_pets.config'\n",
    "batch_size = 12"
   ]
  },
  {
   "cell_type": "code",
   "execution_count": null,
   "metadata": {
    "colab": {
     "base_uri": "https://localhost:8080/",
     "height": 35
    },
    "id": "30xSpbosskQ7",
    "outputId": "f5a72f54-6925-4c9a-d4b9-d339498a80f3"
   },
   "outputs": [
    {
     "data": {
      "application/vnd.google.colaboratory.intrinsic+json": {
       "type": "string"
      },
      "text/plain": [
       "'/content/gdrive/MyDrive/Programming/summer-practise-2021/Tensorflow_v1_color_aug_middle'"
      ]
     },
     "execution_count": 7,
     "metadata": {
      "tags": []
     },
     "output_type": "execute_result"
    }
   ],
   "source": [
    "%pwd"
   ]
  },
  {
   "cell_type": "code",
   "execution_count": null,
   "metadata": {
    "colab": {
     "base_uri": "https://localhost:8080/"
    },
    "id": "dxc3DmvLQF3z",
    "outputId": "3ec3340c-ff39-4230-d412-70cf271d6bea"
   },
   "outputs": [
    {
     "name": "stdout",
     "output_type": "stream",
     "text": [
      "/content/gdrive/MyDrive/Programming/summer-practise-2021/Tensorflow_v1_color_aug_middle\n",
      "Cloning into 'tensorflow-object-detection-faster-rcnn'...\n",
      "remote: Enumerating objects: 885, done.\u001b[K\n",
      "remote: Total 885 (delta 0), reused 0 (delta 0), pack-reused 885\u001b[K\n",
      "Receiving objects: 100% (885/885), 24.83 MiB | 15.55 MiB/s, done.\n",
      "Resolving deltas: 100% (428/428), done.\n",
      "/content/gdrive/MyDrive/Programming/summer-practise-2021/Tensorflow_v1_color_aug_middle/tensorflow-object-detection-faster-rcnn\n",
      "Already up to date.\n"
     ]
    }
   ],
   "source": [
    "import os\n",
    "\n",
    "%cd /content/gdrive/MyDrive/Programming/summer-practise-2021/Tensorflow_v1_color_aug_middle\n",
    "\n",
    "repo_dir_path = os.path.abspath(os.path.join('.', os.path.basename(repo_url)))\n",
    "\n",
    "!git clone {repo_url}\n",
    "%cd {repo_dir_path}\n",
    "!git pull"
   ]
  },
  {
   "cell_type": "markdown",
   "metadata": {
    "id": "bI8__uNS8-ns"
   },
   "source": [
    "## Install required packages"
   ]
  },
  {
   "cell_type": "code",
   "execution_count": null,
   "metadata": {
    "colab": {
     "base_uri": "https://localhost:8080/"
    },
    "id": "roL0fmhTs00C",
    "outputId": "d8615582-30cb-4df8-a24f-923fd9b25e0a"
   },
   "outputs": [
    {
     "name": "stdout",
     "output_type": "stream",
     "text": [
      "/content/gdrive/MyDrive/Programming/summer-practise-2021/Tensorflow_v1_color_aug_middle\n"
     ]
    }
   ],
   "source": [
    "%cd /content/gdrive/MyDrive/Programming/summer-practise-2021/Tensorflow_v1_color_aug_middle/"
   ]
  },
  {
   "cell_type": "code",
   "execution_count": null,
   "metadata": {
    "colab": {
     "base_uri": "https://localhost:8080/",
     "height": 35
    },
    "id": "-tavhjyQtvb-",
    "outputId": "2841753b-32f4-4317-9123-e7ea76940cbb"
   },
   "outputs": [
    {
     "data": {
      "application/vnd.google.colaboratory.intrinsic+json": {
       "type": "string"
      },
      "text/plain": [
       "'/content/gdrive/MyDrive/Programming/summer-practise-2021/Tensorflow_v1_color_aug_middle'"
      ]
     },
     "execution_count": 10,
     "metadata": {
      "tags": []
     },
     "output_type": "execute_result"
    }
   ],
   "source": [
    "%pwd"
   ]
  },
  {
   "cell_type": "code",
   "execution_count": null,
   "metadata": {
    "id": "ecpHEnka8Kix"
   },
   "outputs": [],
   "source": [
    "'''\n",
    "Protocol buffers - are Google's language-neutral, platform-neutral, extensible mechanism for serializing structured data – think XML, but smaller, faster, and simpler.\n",
    "Protocol Buffers is a free and open source cross-platform library used to serialize structured data. It is useful in developing programs to communicate with each other over a network or for storing data.\n",
    "lxml - is a Pythonic, mature binding for the libxml2 and libxslt libraries. It provides safe and convenient access to these libraries using the ElementTree API.\n",
    "python-tk - Tkinter\n",
    "TensorFlow-Slim: A lightweight library for defining, training and evaluating complex models in TensorFlow\n",
    "Cython - makes writing C extensions for Python as easy as Python itself.\n",
    "'''\n",
    "import os\n",
    "\n",
    "!git clone https://github.com/tensorflow/models.git\n",
    "!apt-get install protobuf-compiler   \n",
    "!apt-get install python-pil\n",
    "!apt-get install python-tk\n",
    "!apt-get install python-lxml\n",
    "\n",
    "!pip install Cython      \n",
    "!pip install contextlib2\n",
    "!pip install pillow\n",
    "!pip install matplotlib\n",
    "!pip install lxml\n",
    "!pip install tf_slim\n",
    "!pip install pycocotools\n",
    "\n",
    "\n",
    "%cd /content/gdrive/MyDrive/Programming/summer-practise-2021/Tensorflow_v1_color_aug_middle/models/research\n",
    "!protoc object_detection/protos/*.proto --python_out=.\n",
    "\n",
    "\n",
    "os.environ['PYTHONPATH'] += ':/content/gdrive/MyDrive/Programming/summer-practise-2021/Tensorflow_v1_color_aug_middle/models/research/'\n",
    "os.environ['PYTHONPATH'] += ':/content/gdrive/MyDrive/Programming/summer-practise-2021/Tensorflow_v1_color_aug_middle/models/research/slim/'\n",
    "!python object_detection/builders/model_builder_test.py"
   ]
  },
  {
   "cell_type": "markdown",
   "metadata": {
    "id": "u-k7uGThXlny"
   },
   "source": [
    "## Get tfrecords from roboflow platform\n"
   ]
  },
  {
   "cell_type": "code",
   "execution_count": null,
   "metadata": {
    "colab": {
     "base_uri": "https://localhost:8080/"
    },
    "id": "GNfIPc5yxDOv",
    "outputId": "9609e0ee-0e00-4a96-fc4f-1db468da430b"
   },
   "outputs": [
    {
     "name": "stdout",
     "output_type": "stream",
     "text": [
      "/content/gdrive/MyDrive/Programming/summer-practise-2021/Tensorflow_v1_color_aug_middle/tensorflow-object-detection-faster-rcnn/data\n"
     ]
    }
   ],
   "source": [
    "%cd /content/gdrive/MyDrive/Programming/summer-practise-2021/Tensorflow_v1_color_aug_middle/tensorflow-object-detection-faster-rcnn/data"
   ]
  },
  {
   "cell_type": "code",
   "execution_count": null,
   "metadata": {
    "colab": {
     "base_uri": "https://localhost:8080/"
    },
    "id": "yb_FMcfnSbRZ",
    "outputId": "bea906a4-7678-4564-b284-6e62f17aeb8b"
   },
   "outputs": [
    {
     "name": "stdout",
     "output_type": "stream",
     "text": [
      "  % Total    % Received % Xferd  Average Speed   Time    Time     Time  Current\n",
      "                                 Dload  Upload   Total   Spent    Left  Speed\n",
      "100   891  100   891    0     0    769      0  0:00:01  0:00:01 --:--:--   768\n",
      "100 2766k  100 2766k    0     0  1700k      0  0:00:01  0:00:01 --:--:-- 1700k\n",
      "Archive:  roboflow.zip\n",
      "replace README.roboflow.txt? [y]es, [n]o, [A]ll, [N]one, [r]ename: y\n",
      " extracting: README.roboflow.txt     \n",
      "   creating: test/\n",
      " extracting: test/Hole.tfrecord      \n",
      " extracting: test/Hole_label_map.pbtxt  \n",
      "replace train/Hole.tfrecord? [y]es, [n]o, [A]ll, [N]one, [r]ename: y\n",
      " extracting: train/Hole.tfrecord     \n",
      "replace train/Hole_label_map.pbtxt? [y]es, [n]o, [A]ll, [N]one, [r]ename: y\n",
      " extracting: train/Hole_label_map.pbtxt  \n",
      "   creating: valid/\n",
      " extracting: valid/Hole.tfrecord     \n",
      " extracting: valid/Hole_label_map.pbtxt  \n"
     ]
    }
   ],
   "source": [
    "'''\n",
    "curl - is used in command lines or scripts to transfer data. curl is also used in cars, television sets, routers, printers, audio equipment,\n",
    "mobile phones, tablets, settop boxes, media players and is the Internet transfer engine for thousands of software applications\n",
    "in over ten billion installations.\n",
    "'''\n",
    "\n",
    "# UPDATE THIS LINK - get our data from Roboflow\n",
    "!curl -L \"https://app.roboflow.com/ds/UFxXrbaMBB?key=ZKPKTa7m3p\" > roboflow.zip; unzip roboflow.zip; rm roboflow.zip"
   ]
  },
  {
   "cell_type": "code",
   "execution_count": null,
   "metadata": {
    "colab": {
     "base_uri": "https://localhost:8080/"
    },
    "id": "7T58u1YP9sUW",
    "outputId": "5ca74433-0254-4289-82a7-adedac3db231"
   },
   "outputs": [
    {
     "name": "stdout",
     "output_type": "stream",
     "text": [
      "FYI.txt  README.roboflow.txt  \u001b[0m\u001b[01;34mtest\u001b[0m/  \u001b[01;34mtrain\u001b[0m/  \u001b[01;34mvalid\u001b[0m/\n"
     ]
    }
   ],
   "source": [
    "%ls"
   ]
  },
  {
   "cell_type": "code",
   "execution_count": null,
   "metadata": {
    "colab": {
     "base_uri": "https://localhost:8080/"
    },
    "id": "H5qhOGaTTFsq",
    "outputId": "60efdd4b-453a-4f06-c2ef-7d23f81f049a"
   },
   "outputs": [
    {
     "name": "stdout",
     "output_type": "stream",
     "text": [
      "Hole_label_map.pbtxt  Hole.tfrecord\n"
     ]
    }
   ],
   "source": [
    "# check out what we have in train\n",
    "%ls train"
   ]
  },
  {
   "cell_type": "code",
   "execution_count": null,
   "metadata": {
    "colab": {
     "base_uri": "https://localhost:8080/"
    },
    "id": "mKnnSSBu_XXF",
    "outputId": "d4ba4b54-4016-44f3-dec7-4b804d9cc340"
   },
   "outputs": [
    {
     "name": "stdout",
     "output_type": "stream",
     "text": [
      "Hole_label_map.pbtxt  Hole.tfrecord\n"
     ]
    }
   ],
   "source": [
    "# show what we have in test\n",
    "%ls test"
   ]
  },
  {
   "cell_type": "code",
   "execution_count": null,
   "metadata": {
    "id": "tgd-fzAIkZlV"
   },
   "outputs": [],
   "source": [
    "test_record_fname = '/content/gdrive/MyDrive/Programming/summer-practise-2021/Tensorflow_v1_color_aug_middle/tensorflow-object-detection-faster-rcnn/data/valid/Hole.tfrecord'\n",
    "train_record_fname = '/content/gdrive/MyDrive/Programming/summer-practise-2021/Tensorflow_v1_color_aug_middle/tensorflow-object-detection-faster-rcnn/data/train/Hole.tfrecord'\n",
    "label_map_pbtxt_fname = '/content/gdrive/MyDrive/Programming/summer-practise-2021/Tensorflow_v1_color_aug_middle/tensorflow-object-detection-faster-rcnn/data/train/Hole_label_map.pbtxt'"
   ]
  },
  {
   "cell_type": "markdown",
   "metadata": {
    "id": "iCNYAaC7w6N8"
   },
   "source": [
    "## Download base model"
   ]
  },
  {
   "cell_type": "code",
   "execution_count": null,
   "metadata": {
    "colab": {
     "base_uri": "https://localhost:8080/"
    },
    "id": "orDCj6ihgUMR",
    "outputId": "365f7750-ef92-4404-bced-8086a8b5f675"
   },
   "outputs": [
    {
     "name": "stdout",
     "output_type": "stream",
     "text": [
      "/content/gdrive/MyDrive/Programming/summer-practise-2021/Tensorflow_v1_color_aug_middle/models/research\n"
     ]
    }
   ],
   "source": [
    "%cd /content/gdrive/MyDrive/Programming/summer-practise-2021/Tensorflow_v1_color_aug_middle/models/research\n",
    "\n",
    "import os\n",
    "import urllib.request\n",
    "import tarfile\n",
    "import shutil\n",
    "import glob\n",
    "\n",
    "\n",
    "MODEL_FILE = MODEL + '.tar.gz'\n",
    "DEST_DIR = '/content/gdrive/MyDrive/Programming/summer-practise-2021/Tensorflow_v1_color_aug_middle/models/research/pretrained_model'\n",
    "\n",
    "\n",
    "tar_file = tarfile.open(MODEL_FILE)\n",
    "tar_file.extractall()\n",
    "tar_file.close()\n",
    "\n",
    "os.remove(MODEL_FILE)\n",
    "if (os.path.exists(DEST_DIR)):\n",
    "    shutil.rmtree(DEST_DIR)\n",
    "os.rename(MODEL, DEST_DIR)"
   ]
  },
  {
   "cell_type": "code",
   "execution_count": null,
   "metadata": {
    "id": "pGhvAObeiIix"
   },
   "outputs": [],
   "source": [
    "'''\n",
    "echo command in linux is used to display line of text/string that are passed as an argument .\n",
    "This is a built in command that is mostly used in shell scripts and batch files to output\n",
    "status text to the screen or a file.\n",
    "'''\n",
    "\n",
    "!echo {DEST_DIR}"
   ]
  },
  {
   "cell_type": "code",
   "execution_count": null,
   "metadata": {
    "colab": {
     "base_uri": "https://localhost:8080/",
     "height": 35
    },
    "id": "JeZcpZ1oOuox",
    "outputId": "79b815e4-dfdd-4621-9543-2545213343b0"
   },
   "outputs": [
    {
     "data": {
      "application/vnd.google.colaboratory.intrinsic+json": {
       "type": "string"
      },
      "text/plain": [
       "'/content/gdrive/MyDrive/Programming/summer-practise-2021/Tensorflow_v1_color_aug_middle/models/research/pretrained_model/model.ckpt'"
      ]
     },
     "execution_count": 27,
     "metadata": {
      "tags": []
     },
     "output_type": "execute_result"
    }
   ],
   "source": [
    "# #RUN ONLY DURING 1ST TRAINING!!\n",
    "fine_tune_checkpoint = os.path.join(DEST_DIR, \"model.ckpt\")\n",
    "fine_tune_checkpoint"
   ]
  },
  {
   "cell_type": "code",
   "execution_count": null,
   "metadata": {
    "colab": {
     "base_uri": "https://localhost:8080/",
     "height": 35
    },
    "id": "UHnxlfRznPP3",
    "outputId": "f7dafcd2-c687-46b6-9eeb-d3a801ba9eb8"
   },
   "outputs": [
    {
     "data": {
      "application/vnd.google.colaboratory.intrinsic+json": {
       "type": "string"
      },
      "text/plain": [
       "'/content/gdrive/MyDrive/Programming/summer-practise-2021/Tensorflow_v1/models/research/training/model.ckpt-10378'"
      ]
     },
     "execution_count": 12,
     "metadata": {
      "tags": []
     },
     "output_type": "execute_result"
    }
   ],
   "source": [
    "#THIS SCRIPT RESTORE MODEL THE LATEST MODEL CHECKPOINT\n",
    "THE_LATEST_CHECKPOINT = '/content/gdrive/MyDrive/Programming/summer-practise-2021/Tensorflow_v1_color_aug_middle/models/research/training'\n",
    "#PUT CHECKPOINT NUMBER IN PLACE '.....'\n",
    "fine_tune_checkpoint = os.path.join(THE_LATEST_CHECKPOINT, \"model.ckpt-10378\")\n",
    "fine_tune_checkpoint"
   ]
  },
  {
   "cell_type": "markdown",
   "metadata": {
    "id": "MvwtHlLOeRJD"
   },
   "source": [
    "## Pipeline Configuration"
   ]
  },
  {
   "cell_type": "code",
   "execution_count": null,
   "metadata": {
    "id": "dIhw7IdpLuiU"
   },
   "outputs": [],
   "source": [
    "pipeline_fname = os.path.join('/content/gdrive/MyDrive/Programming/summer-practise-2021/Tensorflow_v1_color_aug_middle/models/research/object_detection/samples/configs/', pipeline_file)"
   ]
  },
  {
   "cell_type": "code",
   "execution_count": null,
   "metadata": {
    "id": "fG1nCNpUXcRU"
   },
   "outputs": [],
   "source": [
    "def classes_from_pbtxt(pbtxt_fname):\n",
    "    from object_detection.utils import label_map_util\n",
    "    label_map = label_map_util.load_labelmap(pbtxt_fname)\n",
    "    categories = label_map_util.convert_label_map_to_categories(\n",
    "        label_map, max_num_classes=90, use_display_name=True)\n",
    "    category_index = label_map_util.create_category_index(categories)\n",
    "    return len(category_index.keys())"
   ]
  },
  {
   "cell_type": "code",
   "execution_count": null,
   "metadata": {
    "id": "YjtCbLF2i0wI"
   },
   "outputs": [],
   "source": [
    "import re\n",
    "\n",
    "num_classes = classes_from_pbtxt(label_map_pbtxt_fname)\n",
    "with open(pipeline_fname) as f:\n",
    "    s = f.read()\n",
    "with open(pipeline_fname, 'w') as file:\n",
    "    \n",
    "    s = re.sub('fine_tune_checkpoint: \".*?\"',\n",
    "               'fine_tune_checkpoint: \"{}\"'.format(fine_tune_checkpoint), s)\n",
    "    \n",
    "    # tfrecord files train and test.\n",
    "    s = re.sub(\n",
    "        '(input_path: \".*?)(train.record)(.*?\")', 'input_path: \"{}\"'.format(train_record_fname), s)\n",
    "    s = re.sub(\n",
    "        '(input_path: \".*?)(val.record)(.*?\")', 'input_path: \"{}\"'.format(test_record_fname), s)\n",
    "\n",
    "    # label_map_path\n",
    "    s = re.sub(\n",
    "        'label_map_path: \".*?\"', 'label_map_path: \"{}\"'.format(label_map_pbtxt_fname), s)\n",
    "\n",
    "    # Set training batch_size.\n",
    "    s = re.sub('batch_size: [0-9]+',\n",
    "               'batch_size: {}'.format(batch_size), s)\n",
    "\n",
    "    # Set training steps, num_steps\n",
    "    s = re.sub('num_steps: [0-9]+',\n",
    "               'num_steps: {}'.format(num_steps), s)\n",
    "    \n",
    "    # Set number of classes num_classes.\n",
    "    s = re.sub('num_classes: [0-9]+',\n",
    "               'num_classes: {}'.format(num_classes), s)\n",
    "    file.write(s)"
   ]
  },
  {
   "cell_type": "code",
   "execution_count": null,
   "metadata": {
    "id": "GH0MEEanocn6"
   },
   "outputs": [],
   "source": [
    "'''\n",
    "Cat(concatenate) command is very frequently used in Linux. It reads data from the file and gives their content as output.\n",
    "It helps us to create, view, concatenate files. \n",
    "'''\n",
    "\n",
    "!cat {pipeline_fname}"
   ]
  },
  {
   "cell_type": "code",
   "execution_count": null,
   "metadata": {
    "id": "f11w0uO3jFCB"
   },
   "outputs": [],
   "source": [
    "model_dir = 'training/'\n",
    "# Optionally remove content in output model directory to fresh start.\n",
    "# !rm -rf {model_dir}\n",
    "# os.makedirs(model_dir, exist_ok=True)"
   ]
  },
  {
   "cell_type": "markdown",
   "metadata": {
    "id": "JDddx2rPfex9"
   },
   "source": [
    "## Train the model"
   ]
  },
  {
   "cell_type": "code",
   "execution_count": null,
   "metadata": {
    "id": "nC7_syR1SJ9F"
   },
   "outputs": [],
   "source": [
    "'''\n",
    "LVIS (LVIS API enables reading and interacting with annotation files, visualizing annotations, and evaluating results.\n",
    "'''\n",
    "\n",
    "!pip install lvis"
   ]
  },
  {
   "cell_type": "code",
   "execution_count": null,
   "metadata": {
    "id": "CjDHjhKQofT5"
   },
   "outputs": [],
   "source": [
    "!python /content/gdrive/MyDrive/Programming/summer-practise-2021/Tensorflow_v1_color_aug_middle/models/research/object_detection/model_main.py \\\n",
    "    --pipeline_config_path={pipeline_fname} \\\n",
    "    --model_dir={model_dir} \\\n",
    "    --alsologtostderr \\\n",
    "    --num_train_steps={num_steps} \\\n",
    "    --num_eval_steps={num_eval_steps}"
   ]
  },
  {
   "cell_type": "code",
   "execution_count": null,
   "metadata": {
    "colab": {
     "base_uri": "https://localhost:8080/"
    },
    "id": "KP-tUdtnRybs",
    "outputId": "2ef8b22f-1b2b-43e0-babb-9a2f54ba1a0d"
   },
   "outputs": [
    {
     "name": "stdout",
     "output_type": "stream",
     "text": [
      "checkpoint\n",
      "eval_0\n",
      "events.out.tfevents.1627253515.7f56d444a059\n",
      "graph.pbtxt\n",
      "model.ckpt-62582.data-00000-of-00001\n",
      "model.ckpt-62582.index\n",
      "model.ckpt-62582.meta\n",
      "model.ckpt-63941.data-00000-of-00001\n",
      "model.ckpt-63941.index\n",
      "model.ckpt-63941.meta\n",
      "model.ckpt-65301.data-00000-of-00001\n",
      "model.ckpt-65301.index\n",
      "model.ckpt-65301.meta\n",
      "model.ckpt-66660.data-00000-of-00001\n",
      "model.ckpt-66660.index\n",
      "model.ckpt-66660.meta\n",
      "model.ckpt-68018.data-00000-of-00001\n",
      "model.ckpt-68018.index\n",
      "model.ckpt-68018.meta\n"
     ]
    }
   ],
   "source": [
    "!ls {model_dir}"
   ]
  },
  {
   "cell_type": "markdown",
   "metadata": {
    "id": "OmSESMetj1sa"
   },
   "source": [
    "## Exporting a Trained Inference Graph\n"
   ]
  },
  {
   "cell_type": "code",
   "execution_count": null,
   "metadata": {
    "id": "DHoP90pUyKSq"
   },
   "outputs": [],
   "source": [
    "import re\n",
    "import numpy as np\n",
    "\n",
    "output_directory = './fine_tuned_model'\n",
    "\n",
    "lst = os.listdir(model_dir)\n",
    "lst = [l for l in lst if 'model.ckpt-' in l and '.meta' in l]\n",
    "steps=np.array([int(re.findall('\\d+', l)[0]) for l in lst])\n",
    "last_model = lst[steps.argmax()].replace('.meta', '')\n",
    "\n",
    "last_model_path = os.path.join(model_dir, last_model)\n",
    "print(last_model_path)\n",
    "!python /content/gdrive/MyDrive/Programming/summer-practise-2021/Tensorflow_v1_color_aug_middle/models/research/object_detection/export_inference_graph.py \\\n",
    "    --input_type=image_tensor \\\n",
    "    --pipeline_config_path={pipeline_fname} \\\n",
    "    --output_directory={output_directory} \\\n",
    "    --trained_checkpoint_prefix={last_model_path}"
   ]
  },
  {
   "cell_type": "code",
   "execution_count": null,
   "metadata": {
    "colab": {
     "base_uri": "https://localhost:8080/"
    },
    "id": "usgBZvkz0nqD",
    "outputId": "de7e4e13-dcef-4351-da69-27f69b46804e"
   },
   "outputs": [
    {
     "name": "stdout",
     "output_type": "stream",
     "text": [
      "checkpoint\t\t\tmodel.ckpt.index  saved_model\n",
      "frozen_inference_graph.pb\tmodel.ckpt.meta\n",
      "model.ckpt.data-00000-of-00001\tpipeline.config\n"
     ]
    }
   ],
   "source": [
    "!ls {output_directory}"
   ]
  }
 ],
 "metadata": {
  "accelerator": "GPU",
  "colab": {
   "collapsed_sections": [
    "FIqnjbWYsuQw",
    "2FKFq8RXs6bs",
    "MFyCeiBb9BbS"
   ],
   "include_colab_link": true,
   "name": "ROBOFLOW-tensorflow-object-detection-faster-rcnn.ipynb",
   "provenance": []
  },
  "kernelspec": {
   "display_name": "Python 3",
   "language": "python",
   "name": "python3"
  },
  "language_info": {
   "codemirror_mode": {
    "name": "ipython",
    "version": 3
   },
   "file_extension": ".py",
   "mimetype": "text/x-python",
   "name": "python",
   "nbconvert_exporter": "python",
   "pygments_lexer": "ipython3",
   "version": "3.6.6"
  }
 },
 "nbformat": 4,
 "nbformat_minor": 1
}
